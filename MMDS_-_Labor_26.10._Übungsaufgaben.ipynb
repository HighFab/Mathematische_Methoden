{
 "cells": [
  {
   "cell_type": "markdown",
   "id": "fc030d2d-10bd-4962-beec-4a2ef5352e0f",
   "metadata": {
    "slideshow": {
     "slide_type": "slide"
    },
    "tags": []
   },
   "source": [
    "<style type=\"text/css\">\n",
    "ol {\n",
    "  counter-reset: item\n",
    "}\n",
    "li {\n",
    "  display: block\n",
    "}\n",
    "li:before {\n",
    "  content: counters(item, \".\") \" \";\n",
    "  counter-increment: item\n",
    "}\n",
    "</style>\n",
    "# Mathematische Methoden der Data Science\n",
    "\n",
    "<hr>\n",
    "\n",
    "#### Prof. Dr. Fabian Transchel - Hochschule Harz\n",
    "#### Stand: 26.10.2023\n",
    "\n",
    "<hr>\n",
    "\n",
    "<h1>Übungen zu Block 1: Labor am 26.10.</h1>\n",
    "\n",
    "<hr>"
   ]
  },
  {
   "cell_type": "markdown",
   "id": "4271e96b-1cac-47d1-84c9-9daa9ad4d43d",
   "metadata": {},
   "source": [
    "<div style=\"border:1px solid black; background-color: #fefeee; padding:15px;\">\n",
    "    <b>Übung 1:</b><br>\n",
    "    <ol>\n",
    "        <li>Bestimmen Sie (analytisch) die Umkehrfunktionen:\n",
    "            <ol>\n",
    "                <li>$f(x) = x^2$</li>\n",
    "                <li>$g(x) = log(x)$</li>\n",
    "                <li>$h(x) = \\frac{1}{x}$</li>\n",
    "                <li>$k(x) = sin(2x)$</li>\n",
    "                <li>$l(x) = \\frac{x+1}{x+2}$</li>\n",
    "                <li>$m(x) = \\frac{1}{2x^2}+5$</li>\n",
    "            </ol>\n",
    "            <br>\n",
    "        </li>\n",
    "        <li><p>Wie lautet der jeweilige Definitionsbereich?</p></li>\n",
    "        <li>Überprüfen Sie Ihr Ergebnis grafisch.</li>\n",
    "        \n",
    "</div>"
   ]
  },
  {
   "cell_type": "markdown",
   "id": "9de171cb-d3c7-4cc3-a2f2-893bde906146",
   "metadata": {},
   "source": [
    "<div style=\"border:1px solid black; background-color: #fefeee; padding:15px;\">\n",
    "    <b>Übung 2:</b><br>\n",
    "        <ol>\n",
    "            <li>Implementieren Sie die $\\text{argsort}$-Funktion. Wie können Sie dabei vorgehen?</li>\n",
    "            <li>Benchmarken Sie ihre Implementierung gegenüber in Bibliotheken eingebauten Versionen, z.B. <tt>numpy</tt>.</li>\n",
    "    </ol>\n",
    "</div>"
   ]
  },
  {
   "cell_type": "markdown",
   "id": "eaa971c0-1425-4443-a55d-544e00ad1af7",
   "metadata": {},
   "source": [
    "<div style=\"border:1px solid black; background-color: #fefeee; padding:15px;\">\n",
    "    <b>Übung 3:</b><br>\n",
    "    Es sei $f(x,y) = 2x + \\frac{3}{y} - x\\cdot y$.\n",
    "        <ol>\n",
    "        <li> Erzeugen Sie einen Surface-Plot und eine Heatmap für $f$.</li>\n",
    "            <li>Vergleichen Sie die Performance von <tt>np.meshgrid</tt> mit einer Implementierung über 2 Schleifen.</li>\n",
    "            <li>(<b>BONUS</b>) Zeichnen Sie in die Plots den Verlauf einer beliebigen (sichtbaren) Isohype ein.</li>\n",
    "    </ol>\n",
    "</div>"
   ]
  },
  {
   "cell_type": "code",
   "execution_count": null,
   "id": "48129eed-bf16-4a61-a2b2-e42acdda34d5",
   "metadata": {},
   "outputs": [],
   "source": []
  }
 ],
 "metadata": {
  "kernelspec": {
   "display_name": "Python [conda env:hsh_ml]",
   "language": "python",
   "name": "conda-env-hsh_ml-py"
  },
  "language_info": {
   "codemirror_mode": {
    "name": "ipython",
    "version": 3
   },
   "file_extension": ".py",
   "mimetype": "text/x-python",
   "name": "python",
   "nbconvert_exporter": "python",
   "pygments_lexer": "ipython3",
   "version": "3.8.12"
  }
 },
 "nbformat": 4,
 "nbformat_minor": 5
}
